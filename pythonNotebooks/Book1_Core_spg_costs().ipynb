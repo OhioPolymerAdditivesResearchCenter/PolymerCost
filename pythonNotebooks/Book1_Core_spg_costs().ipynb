{
  "nbformat": 4,
  "nbformat_minor": 0,
  "metadata": {
    "colab": {
      "provenance": [],
      "collapsed_sections": []
    },
    "kernelspec": {
      "name": "python3",
      "display_name": "Python 3"
    },
    "language_info": {
      "name": "python"
    }
  },
  "cells": [
    {
      "cell_type": "markdown",
      "source": [
        "# **[PolymerCost](www.polymercost.com)**\n",
        "**by [OHPARC: The Ohio Polymer & Additives Research Center](https://www.ohparc.com)**\n",
        "\n",
        "This Python Notebook will show our polymer formulation and costing software's core function spg_costs().  This core function is used to cost out any polymer formula with unlimited numbers of polymers and additives in any currency and in any units of measure.  All Software is MIT Licensed and available at www.github.com/OhioPolymerAdditivesResearchCenter/PolymerCost"
      ],
      "metadata": {
        "id": "ZbDT3OAGueRD"
      }
    },
    {
      "cell_type": "markdown",
      "source": [
        "# **Get the PolymerCost Python Code**\n",
        "\n",
        "For security we are running this notebook with no need to connect to the internet at all.  There are no outside depdendencies to the PolymerCost code and no need to risk anything.  You can download this notebook and run it completely offline if you happen to be running it online.  If you are running it with your real compound data and pricing, you should probably be offline or understand that you are sharing that with google and your internet provider, not OHPARC.\n",
        "\n",
        "First step is to get the code.  Running the cell below will import some of the PolymerCost code.  "
      ],
      "metadata": {
        "id": "1fGF8gtS2922"
      }
    },
    {
      "cell_type": "code",
      "source": [
        "def spg_costs(formula):\n",
        "    \"\"\"takes formula, returns specific gravity and cost per pound and volume\"\"\"\n",
        "    recipe = []\n",
        "    sum_phr = sum_pound_volumes = sum_costs = 0\n",
        "    for ingredient in formula:\n",
        "        pound_volumes = ingredient[0] / ingredient[1]\n",
        "        line_cost = ingredient[0] * ingredient[2]\n",
        "        recipe_data = [ingredient[0], pound_volumes, line_cost]\n",
        "        recipe.append(recipe_data)\n",
        "    for item in recipe:\n",
        "        sum_phr = sum_phr + item[0]\n",
        "        sum_pound_volumes = sum_pound_volumes + item[1]\n",
        "        sum_costs = sum_costs + item[2]\n",
        "    formula_cost = sum_costs / sum_phr\n",
        "    formula_spg = sum_phr / sum_pound_volumes\n",
        "    volume_cost = formula_cost * formula_spg\n",
        "    output = (formula_spg, formula_cost, volume_cost)\n",
        "    return output"
      ],
      "metadata": {
        "id": "3Nq9VSvs4ADt"
      },
      "execution_count": null,
      "outputs": []
    },
    {
      "cell_type": "markdown",
      "source": [
        "# **Build a Formula**\n",
        "\n",
        "In the above cell we imported some of the PolymerCost software.  Now we are going to build a formula so we can use the software.\n",
        "\n",
        "Formulas that the computer can understand don't require chemical names, only the usage, specific gravity, and the cost.  I default to dollars per pound and PHR or per hundred resin by default, but you could use a different currency, or kilograms, or weights or percentages.  The software doesn't care as long as you are consistent.\n",
        "\n",
        "Our formulas are formatted as such:\n",
        "\n",
        "variableName = [\n",
        "  (chemical1 amount, chemical 1 specific gravity, chemical 1 cost),\n",
        "  (chemical2 amount, chemical 2 spg, chemical 2 cost),\n",
        "  (and so on)\n",
        "]\n",
        "\n",
        "Here is a sample formula we will turn into code below.  The pricing is not real and there for demonstration only.  You will have to get your own pricing, or if you'd like better pricing, OHPARC can help you there too.\n",
        "\n",
        "PVC Resin - Formosa 622 @ 100 PHR @ 1.40 spg @ 0.455 per pound\n",
        "\n",
        "Stabilizer - Baerlocher Ba/Zn / ESO / Lube @ 7 PHR @ 1.015 spg @ 0.850 per pound\n",
        "\n",
        "Plasticizer - BASF DINCH @ 50 PHR @ 0.950 spg @ 0.755 per pound\n",
        "\n",
        "Filler - Piqua Materials 3 micron CaCO3 @ 10 PHR @ 2.71 spg @ 0.095 per pound\n",
        "\n"
      ],
      "metadata": {
        "id": "zcBc43gv42vx"
      }
    },
    {
      "cell_type": "code",
      "source": [
        "formula = [(100, 1.40, 0.455),\n",
        "           (7, 1.015, 0.850),\n",
        "           (50, 0.950, 0.755),\n",
        "           (10, 2.71, 0.095)]"
      ],
      "metadata": {
        "id": "GHDyx2gw8tvI"
      },
      "execution_count": null,
      "outputs": []
    },
    {
      "cell_type": "markdown",
      "source": [
        "# **Use PolymerCost on our Formula**\n",
        "\n",
        "Now we are going to use PolymerCost on our formula.  The core function of PolymerCost is the spg_costs() function.  You pass the variable formula to the function and it calculates the specific gravity of that compound, the cost per pound, and the cost per volume.  The cost per volume is the figure you would want to minimize if you were motivated by economics.\n",
        "\n",
        "Run the cell below to calculate out out specific gravity and costs of our variable called formula."
      ],
      "metadata": {
        "id": "7fuAFnsd9Hmh"
      }
    },
    {
      "cell_type": "code",
      "source": [
        "spg_costs(formula)"
      ],
      "metadata": {
        "colab": {
          "base_uri": "https://localhost:8080/"
        },
        "id": "vr2Ha8NI9ttR",
        "outputId": "da628d5f-eeef-4c1f-e4c9-f854b0992674"
      },
      "execution_count": null,
      "outputs": [
        {
          "output_type": "execute_result",
          "data": {
            "text/plain": [
              "(1.240282544083343, 0.5398203592814371, 0.6695297685575651)"
            ]
          },
          "metadata": {},
          "execution_count": 9
        }
      ]
    },
    {
      "cell_type": "markdown",
      "source": [
        "This calculation returns three numbers:\n",
        "\n",
        "\n",
        "1.   Specific Gravity or spg\n",
        "2.   Cost per Weight (defaults to dollars per pound)\n",
        "3.   Cost per Volume\n",
        "\n",
        "With water being defined as 1.00 g/cc it is easy from specific gravity to calculate out part weight based on the volume of your mold or extrusion.  \n",
        "\n",
        "You will see that as you change your formulation you will change your specific gravity and that will change your part weight.  To make the same number of parts, you would need more or less plastic depending on the change in specific gravity.\n",
        "\n",
        "The dollars per pound figure doesn't reflect that change in specific gravity.\n",
        "\n",
        "The cost per volume figure is the key.  This takes into account both the cost per pound and the amount of pounds you need based on specific gravity.  It is the cost you would be trying to minimize all things equal.\n",
        "\n",
        "In plastic you purchase materials by the pound but sell them by the volume generally.  Specific Gravity is the key to all formulation costing decisions and that is the core functionality of PolymerCost.\n",
        "\n"
      ],
      "metadata": {
        "id": "-9tzV23u-WTI"
      }
    },
    {
      "cell_type": "markdown",
      "source": [
        "# **Summary**\n",
        "\n",
        "We imported the PolymerCost code.\n",
        "\n",
        "We wrote a variable and stored a formula in that variable.\n",
        "\n",
        "We passed that variable to the spg_costs() function and it returned three results:\n",
        "\n",
        "\n",
        "\n",
        "1.   Specific Gravity of the compound stored in variable\n",
        "2.   Cost per Weight of that compound\n",
        "3.   Cost per Volume of that compound\n",
        "\n",
        "We also learned that Cost per Volume is the key to minimizing cost from a materials perspective.\n",
        "\n",
        "With this core function you can now write formulas and evaluate them for cost.  With more data you can also predict the properties of those formulas and create tools to search for compounds that meet certain requirements while minizing cost.  This data is tightly held in the industry and will need to be generated for any real users.  As a demonstration I have released some data on PVC Compounding in PolymerCost for educational purposes only.  \n",
        "\n",
        "Our next notebook will demonstrate more of the capabilities of PolymerCost with a sample PVC formulator.\n",
        "\n",
        "Thanks for your interest in PolymerCost, if you have any questions, feel free to get in touch with OHPARC and we will see how we can help.\n",
        "\n",
        "[OHPARC](www.ohparc.com)\n",
        "\n",
        "[PolymerCost](https://www.polymercost.com)\n",
        "\n",
        "1.877.876.7338\n",
        "\n",
        "\n"
      ],
      "metadata": {
        "id": "z_WF_klyAy5j"
      }
    }
  ]
}