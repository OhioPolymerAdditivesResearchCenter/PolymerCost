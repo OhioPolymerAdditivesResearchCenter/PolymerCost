{
  "nbformat": 4,
  "nbformat_minor": 0,
  "metadata": {
    "colab": {
      "provenance": []
    },
    "kernelspec": {
      "name": "python3",
      "display_name": "Python 3"
    },
    "language_info": {
      "name": "python"
    }
  },
  "cells": [
    {
      "cell_type": "markdown",
      "source": [
        "# **[PolymerCost](https://www.polymercost.com)**\n",
        "**by [OHPARC: The Ohio Polymer & Additives Research Center](https://www.ohparc.com)**\n",
        "\n",
        "This Python Notebook will show our polymer formulation and costing software's core function spg_costs().  This core function is used to cost out any polymer formula with unlimited numbers of polymers and additives in any currency and in any units of measure.  All Software is MIT Licensed and available at www.github.com/OhioPolymerAdditivesResearchCenter/PolymerCost"
      ],
      "metadata": {
        "id": "ZbDT3OAGueRD"
      }
    },
    {
      "cell_type": "markdown",
      "source": [
        "# **Get the PolymerCost Python Code**\n",
        "\n",
        "For security we are running this notebook with no need to connect to the internet at all.  There are no outside depdendencies to the PolymerCost code and no need to risk anything.  You can download this notebook and run it completely offline if you happen to be running it online.  If you are running it with your real compound data and pricing, you should probably be offline or understand that you are sharing that with google and your internet provider, not OHPARC.\n",
        "\n",
        "First step is to get the code.  Running the cell below will import some of the PolymerCost code.  "
      ],
      "metadata": {
        "id": "1fGF8gtS2922"
      }
    },
    {
      "cell_type": "code",
      "source": [
        "def spg_costs(formula):\n",
        "    \"\"\"takes formula, returns specific gravity and cost per pound and volume\"\"\"\n",
        "    recipe = []\n",
        "    sum_phr = sum_pound_volumes = sum_costs = 0\n",
        "    for ingredient in formula:\n",
        "        pound_volumes = ingredient[0] / ingredient[1]\n",
        "        line_cost = ingredient[0] * ingredient[2]\n",
        "        recipe_data = [ingredient[0], pound_volumes, line_cost]\n",
        "        recipe.append(recipe_data)\n",
        "    for item in recipe:\n",
        "        sum_phr = sum_phr + item[0]\n",
        "        sum_pound_volumes = sum_pound_volumes + item[1]\n",
        "        sum_costs = sum_costs + item[2]\n",
        "    formula_cost = sum_costs / sum_phr\n",
        "    formula_spg = sum_phr / sum_pound_volumes\n",
        "    volume_cost = formula_cost * formula_spg\n",
        "    output = (formula_spg, formula_cost, volume_cost)\n",
        "    return output\n",
        "\n",
        "def flex_clear_dinp(phr):\n",
        "    duro = 113.8 - 0.6*phr\n",
        "    modulus = 3559.1 - 34.78*phr\n",
        "    tensile = 4414.8 - 28.7*phr\n",
        "    elongation = 248.6 + 1.61*phr\n",
        "    clashberg = 14.23 - 0.76*phr\n",
        "    brittle = -4.19 - 0.55*phr\n",
        "    output = (duro, modulus, tensile, elongation, clashberg, brittle)\n",
        "    return output\n",
        "\n",
        "def flex_clear_dinch(phr):\n",
        "    duro = 115.2 - 0.602*phr\n",
        "    modulus = 3124.3-28.3*phr\n",
        "    tensile = 4274.7-26.3*phr\n",
        "    elongation = 335.1+.6*phr\n",
        "    clashberg = 11.64-.79*phr\n",
        "    brittle = -6.71-.57*phr\n",
        "    output = (duro, modulus, tensile, elongation, clashberg, brittle)\n",
        "    return output\n",
        "\n",
        "def flex_clear_dotp(phr):\n",
        "    duro = 113.8 - 0.617*phr\n",
        "    modulus = 3650.3-35.4*phr\n",
        "    tensile = 4419.7-26.8*phr\n",
        "    elongation = 250.9+1.96*phr\n",
        "    clashberg = 10.8-.77*phr\n",
        "    brittle = -4.7-.57*phr\n",
        "    output = (duro, modulus, tensile, elongation, clashberg, brittle)\n",
        "    return output\n",
        "\n",
        "def flex_filled(duro_A, phr_CaCO3):\n",
        "    #linear r square 0.989, n = 27\n",
        "    #duro = 0.929607437 * duro_A + 0.0531305301 * phr_CaCO3 + 6.270608278\n",
        "    #polynomial r square 0.992, n=27\n",
        "    a = -0.001058114988 * duro_A * duro_A\n",
        "    b = -0.001695411881 * duro_A * phr_CaCO3\n",
        "    c = 0.00004967760719 * phr_CaCO3 * phr_CaCO3\n",
        "    d = 1.158214659 * duro_A\n",
        "    e = 0.1840327098 * phr_CaCO3\n",
        "    f = -5.05711084\n",
        "    duro = a + b + c + d + e + f\n",
        "    return duro\n",
        "\n",
        "def duro_AtoD(duro_A):\n",
        "    #converter {k:v, A Shore:D Shore, another set of A/D, so on}\n",
        "    converter = {120:84, 115:84, 110:75.8, 105:66.8,\n",
        "                 100:58, 95:46, 90:39, 85:33, 80:29, 75:25, 70:22,\n",
        "                 65:19, 60:16, 55:14, 50:12, 45:10, 40:8, 35:7, 30:6}\n",
        "    test_A = (duro_A // 5)*5\n",
        "    if test_A >= 118.2:\n",
        "        output = 84\n",
        "    elif test_A <=30:\n",
        "        output = 6\n",
        "    else:\n",
        "        total_gap_up = converter[test_A + 5] - converter[test_A]\n",
        "        share_gap_up = (duro_A - test_A)/5\n",
        "        partial_adjust = total_gap_up * share_gap_up\n",
        "        output = converter[test_A] + partial_adjust\n",
        "    return output"
      ],
      "metadata": {
        "id": "Ig8ex2qp9iu-"
      },
      "execution_count": null,
      "outputs": []
    },
    {
      "cell_type": "markdown",
      "source": [
        "# **Flexible PVC Compounder Simulation**\n",
        "\n",
        "Our simulation is a fictional compounder of flexible PVC products.  They make their own compound and produce finished goods from that compound.  That is 80% of their business, the other 20% is them producing pellets for outside customers with their spare capacity to help pay for the equipment.\n",
        "\n",
        "They are a Formosa house and use their product exclusively.  They have railcars on site with Formosa Formolon 622F, Formolon 676A, and Formolon 680A in stock at all times.\n",
        "\n",
        "They have considerable bulk tank storage for plasticizer as a flexible producer.  They have dedicated tanks for BASF products Palatinol DINP, Platinol DOTP, and Hexamoll DINCH.  They also have a dedicated tank for ExxonMobil's Jayflex DINP.\n",
        "\n",
        "Filler is also provided by rail.  They use Piqua Materials PIQ-White Ultra Premium Filler 30, a 3 micron Calcium Carbonate (CaCO3) filler.\n",
        "\n",
        "Being a fictional compounder, they like to keep it simple so they receive their Heat Stabilizer, Epoxidized Soybean Oil, and various lubricants in a customer specific liquid one pack from Baerlocher with a BAEROPOL brand name.\n",
        "\n",
        "They have additional colorants in stock from Akronchem and Lanxess that are dosed at the machine after the base compound is made as those colors are needed.\n",
        "\n",
        "So here is a list of the products we have in house to work with, minus the colors which are used at the press.\n",
        "\n",
        "**PVC Resin**\n",
        "\n",
        "Formolon 622F, 676A, and 680A.  All three have a Specific Gravity or spg of 1.40.  Fictional pricing is \\$0.405, \\$0.410, and \\$0.435 each.\n",
        "\n",
        "**Plasticizer**\n",
        "\n",
        "BASF Platinol DINP and DOTP and Hexamoll DINCH.  DINP is 0.975 spg and has a fictional price of \\$0.765 per pound.  DOTP is 0.984 spg and has a price of \\$0.765 per pound also.  BASF is really pushing the DINCH.  They have that at 0.949 spg and are selling it to us at $0.735 per pound.\n",
        "\n",
        "They also have a tank of ExxonMobil's DINP.  It has a spg of 0.973 and a fictional price of \\$0.735.\n",
        "\n",
        "**Stabilizer / ESO / Lubricants**\n",
        "\n",
        "They use Baerlocher here for these products exclusively.  One option for their fictional product line fits all.  The BAEROPOL is at 1.015 spg and costs them $0.935 per pound.\n",
        "\n",
        "**Filler**\n",
        "\n",
        "Again they use one material exclusively, the Piqua Materials 3 micron white thanks to its consistency of cut and color.  This product is at 2.71 spg and is costing them only \\$0.095 per pound.\n",
        "\n",
        "**Formulas**\n",
        "\n",
        "This company is producing flexible PVC for its internal production that is later colored at the press when parts are made. \n",
        "\n",
        "**The Base Formula**\n",
        "\n",
        "PVC = Formolon 622F @ 100 PHR @ 1.40 spg @ \\$0.405 per pound\n",
        "\n",
        "Plasticizer = ExxonMobil's DINP @ 60 PHR @ 0.973 spg @ \\$0.735 per pound\n",
        "\n",
        "Stabilizer = Baerlocher's BAEROPOL @ 7.5 PHR @ 1.015 spg @ \\$0.935 per pound\n",
        "\n",
        "Filler = Piqua's 3 micron white CaCO3 @ 10 PHR @ 2.71 @ \\$0.095 per pound.\n",
        "\n",
        "First, lets write that formula in code.\n",
        "\n",
        "\n",
        "\n",
        "\n",
        "\n"
      ],
      "metadata": {
        "id": "kT9LXn5j-P7v"
      }
    },
    {
      "cell_type": "code",
      "source": [
        "current_formula = [(100, 1.40, 0.405),\n",
        "                   (60, 0.973, 0.735),\n",
        "                   (7.5, 1.015, 0.935),\n",
        "                   (10, 2.71, 0.095)]"
      ],
      "metadata": {
        "id": "XQNgwfBMKt0x"
      },
      "execution_count": null,
      "outputs": []
    },
    {
      "cell_type": "markdown",
      "source": [
        "# **Run spg_costs() on our current_formula**\n",
        "\n",
        "First let's run our spg_costs() on the current formula."
      ],
      "metadata": {
        "id": "q_YYWOHJLL6b"
      }
    },
    {
      "cell_type": "code",
      "source": [
        "spg_costs(current_formula)"
      ],
      "metadata": {
        "colab": {
          "base_uri": "https://localhost:8080/"
        },
        "id": "F9IarW7WLXOS",
        "outputId": "e06486d9-3a16-4723-fbe0-5db1a709b34a"
      },
      "execution_count": null,
      "outputs": [
        {
          "output_type": "execute_result",
          "data": {
            "text/plain": [
              "(1.2311621386153346, 0.5214788732394366, 0.6420250448201799)"
            ]
          },
          "metadata": {},
          "execution_count": 3
        }
      ]
    },
    {
      "cell_type": "markdown",
      "source": [
        "This calculates our specific gravity to be approximately 1.231, our material cost is \\$0.52148 per pound, and \\$0.64203 per volume.\n",
        "\n",
        "Now let's explore the physical properties of that compound."
      ],
      "metadata": {
        "id": "JeW8jhptLcN7"
      }
    },
    {
      "cell_type": "markdown",
      "source": [
        "# **Plasticizing PVC**\n",
        "\n",
        "The next step after the spg and costs, is the plasticization.  PolymerCost includes functions for many common PVC plasticizers on the market.  They are all in the code as flex_clear_PLASTICIZER_NAME().  In our current_formula we were using DINP so we will use the function flex_clear_dinp(PHR) to plasticize the resin.  We just need to pass the variable or parameter PHR to the function.  In current_formula, they are using 60PHR so let's run that."
      ],
      "metadata": {
        "id": "oBXG1e2_L8G1"
      }
    },
    {
      "cell_type": "code",
      "source": [
        "flex_clear_dinp(60)"
      ],
      "metadata": {
        "colab": {
          "base_uri": "https://localhost:8080/"
        },
        "id": "V53z9QSyMzfs",
        "outputId": "96fc3ef0-c555-4b9c-921c-e9e18cc917ca"
      },
      "execution_count": null,
      "outputs": [
        {
          "output_type": "execute_result",
          "data": {
            "text/plain": [
              "(77.8, 1472.2999999999997, 2692.8, 345.2, -31.37, -37.19)"
            ]
          },
          "metadata": {},
          "execution_count": 4
        }
      ]
    },
    {
      "cell_type": "markdown",
      "source": [
        "Running the flex_clear_dinp() returned 6 results.  \n",
        "\n",
        "1.  77.8 A Shore Durometer per ASTM D2240 @ 15s delay\n",
        "2.  1472 psi Modulus @ 100% Elongation per ASTM D638\n",
        "3.  2693 psi Tensile Strenght per ASTM D638\n",
        "4.  345% Ultimate Elongation per ASTM D638\n",
        "5.  -31.4 Degrees Celsius Clash-Berg per ASTM D1043\n",
        "6.  -37.2 Degrees Celsius Brittleness per ASTM D746\n",
        "\n",
        "Those are the estimated physical properties of a PVC clear compound plasticized with DINP at 60 PHR.  "
      ],
      "metadata": {
        "id": "x_wT-4hqNIsv"
      }
    },
    {
      "cell_type": "markdown",
      "source": [
        "## **Filling Plasticized PVC**"
      ],
      "metadata": {
        "id": "NeQkPWP2Tlc4"
      }
    },
    {
      "cell_type": "code",
      "source": [
        "flex_filled(77.8, 10)"
      ],
      "metadata": {
        "colab": {
          "base_uri": "https://localhost:8080/"
        },
        "id": "XTMLZQzvOJ_V",
        "outputId": "52878fcf-7de8-4c6f-fbc3-3c86bef6586e"
      },
      "execution_count": null,
      "outputs": [
        {
          "output_type": "execute_result",
          "data": {
            "text/plain": [
              "79.17365332153508"
            ]
          },
          "metadata": {},
          "execution_count": 5
        }
      ]
    },
    {
      "cell_type": "markdown",
      "source": [
        "Their formula wasn't clear, it used 10 PHR of Piqua's 3 micron CaCO3 filler to give it a white base to later color.\n",
        "\n",
        "\n",
        "\n",
        "PolymerCost can calculate for the addition of filler on the hardness or durometer reading. \n",
        "\n",
        " To compensate for this I ran the flex_filled(durometer, PHR filler) function.  \n",
        " \n",
        " To run it you must pass two variables or parameters, the durometer of the compound if it were clear from the previous function, and the amount of filler you want to compensate for.  The result is the calculated A Shore Durometer @ 15 second delay per ASTM D2240 for the filled compound.  \n",
        " \n",
        " It is not a straight line and there is a twist for each plasticizer.  You can see that graph for DINP and 3 micron filler as produced by the PolymerCost software [here](https://www.ohparc.com/img/spinner.gif).\n",
        "\n",
        " Our results here showed the durometer being 79.2 A Shore, increased from 77.8 if it were the same formula but without filler.\n",
        "\n",
        " PolymerCost lacks sufficient data to modify the properties other than cost, spg, and hardness in flexible PVC.  Generally mineral fillers make the compound stiffer but more brittle but the data is too scattered to be reliable with different filler particle sizes and resin IV's not disclosed in some of the data used.\n",
        "\n",
        " Fortunately, cost, spg, and hardness are by far the 3 most important factors in flexible PVC, and probably why there is data there.  The fictional compounder feels that as long as the cost is good and the hardness is the same their parts should perform just fine.\n",
        " \n",
        "\n"
      ],
      "metadata": {
        "id": "FMOMzNLwOTHB"
      }
    },
    {
      "cell_type": "markdown",
      "source": [
        "# **New Formula Trials**\n",
        "\n",
        "Let's build some formulas and see if maybe we can't save some money.  We are currently making 50 million pounds of our current formula so we don't need to find much to have it add up to a large amount.\n",
        "\n",
        "The current formula is at 79.2 hardness.  That number and cost are apparently our only concerns in this fictional scenario.\n",
        "\n",
        "Well if adding the filler made it harder and the plasticizer made it softer, maybe we just don't add the filler and use less plasticizer?  Use none of one product and save all that money and use less of the other.  Sounds like a win win.\n",
        "\n",
        "We can run it through PolymerCost and see how we do."
      ],
      "metadata": {
        "id": "KX41wEtxT-If"
      }
    },
    {
      "cell_type": "code",
      "source": [
        "no_filler_trial = [(100, 1.40, 0.405),\n",
        "                   (57.7, 0.973, 0.735),\n",
        "                   (7.5, 1.015, 0.935)]"
      ],
      "metadata": {
        "id": "QNQT1-2EU8Ux"
      },
      "execution_count": 16,
      "outputs": []
    },
    {
      "cell_type": "code",
      "source": [
        "spg_costs(no_filler_trial)"
      ],
      "metadata": {
        "colab": {
          "base_uri": "https://localhost:8080/"
        },
        "id": "Fa_vLYR2VGPI",
        "outputId": "450fac39-7f72-4995-a036-f497d08c670f"
      },
      "execution_count": 17,
      "outputs": [
        {
          "output_type": "execute_result",
          "data": {
            "text/plain": [
              "(1.1960712287994253, 0.5443220338983051, 0.6510479239473482)"
            ]
          },
          "metadata": {},
          "execution_count": 17
        }
      ]
    },
    {
      "cell_type": "code",
      "source": [
        "flex_clear_dinp(57.70)"
      ],
      "metadata": {
        "colab": {
          "base_uri": "https://localhost:8080/"
        },
        "id": "SyZazFu_VK4R",
        "outputId": "3565a0c8-a873-4538-f367-cea45d1c59eb"
      },
      "execution_count": 18,
      "outputs": [
        {
          "output_type": "execute_result",
          "data": {
            "text/plain": [
              "(79.18,\n",
              " 1552.2939999999996,\n",
              " 2758.8100000000004,\n",
              " 341.497,\n",
              " -29.622000000000003,\n",
              " -35.925000000000004)"
            ]
          },
          "metadata": {},
          "execution_count": 18
        }
      ]
    },
    {
      "cell_type": "markdown",
      "source": [
        "# **No Filler Trial Results**\n",
        "\n",
        "Both formulas were at 79.2 A Shore Durometer so they were a match as far as production would be concerned.  \n",
        "\n",
        "The no filler trial ended up being more expensive though on a cost per pound and cost per volume basis.  Worse yet, they need at least 5 PHR filler in there to give it a cloudy white base to color, otherwise they need to use more expensive Titanium Dioxide at the press. \n",
        "\n",
        "It turns out that the same formula with less plasticizer and no filler wasn't cheaper at all.  Sounds counter intuitive somewhat to take out an ingredient completely and remove another and not save money, but that is the science of compounding.  The chemical you took out was the cheapest volume chemical in the formula, despite being the heaviest.\n",
        "\n",
        "So back to the drawing board, this time we ask Engineering what is the most filler we can put in a formula as accountants.  He says you can't put any in the machines, but you can use up to 50 PHR in your spreadsheets and software and our equipment can run the formula.\n",
        "\n",
        "This trial was a horrible idea.  At least PolymerCost proved that out before spending any labor, machine time, or materials on it.\n",
        "\n",
        "## **So let's try a high filler formula with Polymer Cost.**"
      ],
      "metadata": {
        "id": "E8JGtis2Vpqr"
      }
    },
    {
      "cell_type": "code",
      "source": [
        "high_filler_trial = [(100, 1.40, 0.405),\n",
        "                   (64, 0.973, 0.735),\n",
        "                   (7.5, 1.015, 0.935),\n",
        "                   (50, 2.71, 0.095)]"
      ],
      "metadata": {
        "id": "We5Hj1sNX5ym"
      },
      "execution_count": 29,
      "outputs": []
    },
    {
      "cell_type": "code",
      "source": [
        "spg_costs(high_filler_trial)"
      ],
      "metadata": {
        "colab": {
          "base_uri": "https://localhost:8080/"
        },
        "id": "CjNzw-fFYLYt",
        "outputId": "7d94240a-edca-4d20-dab1-c02da1ea539f"
      },
      "execution_count": 30,
      "outputs": [
        {
          "output_type": "execute_result",
          "data": {
            "text/plain": [
              "(1.358530076237302, 0.4483182844243792, 0.6090538731176284)"
            ]
          },
          "metadata": {},
          "execution_count": 30
        }
      ]
    },
    {
      "cell_type": "code",
      "source": [
        "flex_clear_dinp(64)"
      ],
      "metadata": {
        "colab": {
          "base_uri": "https://localhost:8080/"
        },
        "id": "GQO7IZHEYO41",
        "outputId": "09ebabb5-e8f5-4924-bcc5-8261292c9b3d"
      },
      "execution_count": 31,
      "outputs": [
        {
          "output_type": "execute_result",
          "data": {
            "text/plain": [
              "(75.4, 1333.1799999999998, 2578.0, 351.64, -34.41, -39.39)"
            ]
          },
          "metadata": {},
          "execution_count": 31
        }
      ]
    },
    {
      "cell_type": "code",
      "source": [
        "flex_filled(75.4, 50)"
      ],
      "metadata": {
        "colab": {
          "base_uri": "https://localhost:8080/"
        },
        "id": "xuSYBJB3YStW",
        "outputId": "2f628a5e-bf63-42c1-a160-b893653f6cd3"
      },
      "execution_count": 32,
      "outputs": [
        {
          "output_type": "execute_result",
          "data": {
            "text/plain": [
              "79.19084816002692"
            ]
          },
          "metadata": {},
          "execution_count": 32
        }
      ]
    },
    {
      "cell_type": "markdown",
      "source": [
        "# **High Filler Trial Results**\n",
        "\n",
        "Here we again matched the hardness specification of 79.2 A Shore @ 15 second delay.  This time we are at \\$0.448 per pound and \\$0.609 per volume.\n",
        "\n",
        "Our current compound in production is at \\$0.521 per pound and \\$0.642 per volume.  \n",
        "\n",
        "This formula has potential and should work per Engineering.  Let's double check the spreadsheet math and run this down to Finance and Engineering, we may have something here.\n",
        "\n",
        "Checking the math, you can ignore the cost per pound figure as our parts will weigh more now with an increased specific gravity.  On a volume basis we are 5.1% cheaper though and that will be our materials savings from this formula.\n",
        "\n",
        "Congratulations you just saved \\$1.32 million on an annual spend of \\$26 million through proper formulation.  Nice day in the office.\n",
        "\n",
        "Let's take this back to Engineering and bring Finance with us.\n",
        "\n",
        "\n",
        "\n"
      ],
      "metadata": {
        "id": "kZkYDBITZEQo"
      }
    },
    {
      "cell_type": "markdown",
      "source": [
        "# **More Trials, Plasticizer and Filler now**\n",
        "\n",
        "So just jacking up the filler to the Engineering max worked, we just had to add some plasticizer to the equation to compensate.\n",
        "\n",
        "Well we have one more variable in house to play with, our plasticizer tank farm.  We are using the cheapest DINP we can get, but what about that cheaper DINCH, we have to use more of it, but it weighs less than DINP.  What about that DOTP or the BASF version of ExxonMobil's DINP any potential there?  Those don't look as promising to me for this cost centric application, so let's just focus on the DINCH says Engineering.\n",
        "\n",
        "First we need to make the formula."
      ],
      "metadata": {
        "id": "nUOe9nBKdnt_"
      }
    },
    {
      "cell_type": "code",
      "source": [
        "dinch_high_filler_trial = [(100, 1.40, 0.405),\n",
        "                   (66.25, 0.949, 0.735),\n",
        "                   (7.5, 1.015, 0.935),\n",
        "                   (50, 2.71, 0.095)]"
      ],
      "metadata": {
        "id": "zDEnvAZrejym"
      },
      "execution_count": 77,
      "outputs": []
    },
    {
      "cell_type": "code",
      "source": [
        "spg_costs(dinch_high_filler_trial)"
      ],
      "metadata": {
        "colab": {
          "base_uri": "https://localhost:8080/"
        },
        "id": "FOTBYATQe4Qv",
        "outputId": "bc3aedcd-0f99-489e-d425-ff074b59f45b"
      },
      "execution_count": 78,
      "outputs": [
        {
          "output_type": "execute_result",
          "data": {
            "text/plain": [
              "(1.3391929020856792, 0.45120111731843576, 0.604245333725977)"
            ]
          },
          "metadata": {},
          "execution_count": 78
        }
      ]
    },
    {
      "cell_type": "code",
      "source": [
        "flex_clear_dinch(66.25)"
      ],
      "metadata": {
        "colab": {
          "base_uri": "https://localhost:8080/"
        },
        "id": "QNYUKIPke8zB",
        "outputId": "25818114-4eee-43b1-e633-fd2bce4ae1b9"
      },
      "execution_count": 79,
      "outputs": [
        {
          "output_type": "execute_result",
          "data": {
            "text/plain": [
              "(75.3175, 1249.4250000000002, 2532.325, 374.85, -40.697500000000005, -44.4725)"
            ]
          },
          "metadata": {},
          "execution_count": 79
        }
      ]
    },
    {
      "cell_type": "code",
      "source": [
        "flex_filled(75.3, 50)"
      ],
      "metadata": {
        "colab": {
          "base_uri": "https://localhost:8080/"
        },
        "id": "VQQtrIgUfBBw",
        "outputId": "383aecf4-5bb6-4a9b-f196-6eba2f1cfa78"
      },
      "execution_count": 80,
      "outputs": [
        {
          "output_type": "execute_result",
          "data": {
            "text/plain": [
              "79.09944954640108"
            ]
          },
          "metadata": {},
          "execution_count": 80
        }
      ]
    },
    {
      "cell_type": "markdown",
      "source": [
        "# **DINCH HIGH FILLER TRIAL**\n",
        "\n",
        "This trial was even better than the other.  The lower efficiency DINCH means I had to use more of it than DINP, but it is lighter than both DINP and the resin it replaces so it was a cost savings.  What was \\$1.32 million in annual savings is now a cool \\$1.5 million in savings every year.  Thanks PolymerCost and OHPARC, we will be running this trial ASAP.\n",
        "\n",
        "The calculations for the BASF DINP and DOTP weren't economically feasible, only there DINCH is competitive with ExxonMobil's DINP with these fictional prices.\n",
        "\n",
        "\n"
      ],
      "metadata": {
        "id": "hYqzpzH_gq0s"
      }
    }
  ]
}